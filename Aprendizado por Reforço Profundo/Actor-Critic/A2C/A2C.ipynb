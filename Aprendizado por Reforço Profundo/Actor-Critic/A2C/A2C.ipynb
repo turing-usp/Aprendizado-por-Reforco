{
 "cells": [
  {
   "cell_type": "markdown",
   "metadata": {
    "id": "hjGWyD9Hyfg-"
   },
   "source": [
    "# A2C - Advantage Actor Critic\n",
    "\n",
    "Como vimos na aula de Policy Gradients, existem algoritmos capazes de aprender a política diretamente, utilizando gradiente ascendente neste processo. Porém, modelos como REINFORCE sofrem com grande variância. Para tentar solucionar este problema, surge a ideia de utilizar uma estimativa do retorno. Cada uma dessas estimativas leva a diferentes algoritmos Actor-Critic. Hoje, vamos abordar uma delas, a Advantage (vantagem):\n",
    "\n",
    "\\begin{align*}\n",
    "  \\nabla_\\theta J(\\theta) &=  \\mathbb{E}_{\\pi_\\theta} [\\nabla_\\theta log \\pi_\\theta(s,a)\\ G_t]\\ \\ \\ \\text{REINFORCE} \\\\\n",
    "\n",
    "  \\nabla_\\theta J(\\theta) &=  \\mathbb{E}_{\\pi_\\theta} [\\nabla_\\theta log \\pi_\\theta(s,a)\\ Q^w(s,a)]\\ \\ \\ \\text{Q Actor-Critic} \\\\\n",
    "\n",
    "  \\nabla_\\theta J(\\theta) &=  \\mathbb{E}_{\\pi_\\theta} [\\nabla_\\theta log \\pi_\\theta(s,a)\\ A^w(s,a)]\\ \\ \\ \\text{Advantage Actor-Critic} \\\\\n",
    "\n",
    "  \\nabla_\\theta J(\\theta) &=  \\mathbb{E}_{\\pi_\\theta} [\\nabla_\\theta log \\pi_\\theta(s,a)\\ \\delta]\\ \\ \\ \\text{TD Actor-Critic}\n",
    "\\end{align*}\n",
    "\n",
    "\n",
    "\n",
    "## O Ator e o Crítico\n",
    "\n",
    "Antes de entrarmos no A2C em si, é interessante explorar o que cada parte do algoritmo faz. Resumindo, o **crítico** atualiza as estimativas da função valor enquanto o **ator** busca atualizar a política na direção sugerida pelo crítico.\n",
    "\n",
    "![interacao actor-critic](https://miro.medium.com/max/390/1*-GfRVLWhcuSYhG25rN0IbA.png)\n",
    "\n",
    "Para entender um pouco melhor, de uma forma mais alto nível, [recomendo essa história em quadrinhos](https://hackernoon.com/intuitive-rl-intro-to-advantage-actor-critic-a2c-4ff545978752) (sim, existem historias em quadrinhos de RL)\n",
    "\n",
    "Enxergando de outra forma, temos que o crítico é a função valor, medindo o quão boas são as ações tomadas, enquanto o ator é a função política, controlando as ações.\n",
    "\n",
    "* Ator: $\\pi(s, a, \\theta)$\n",
    "* Crítico: $\\hat{q}(s, a, \\omega)$\n",
    "\n",
    "\n",
    "## Advantage\n",
    "\n",
    "Uma das baselines que pode ser desenvolvida é a chamada vantagem, que é definida da seguinte forma:\n",
    "\n",
    "$$A(s, a) = Q(s, a) - V(s)$$\n",
    "\n",
    "Em resumo, a vantagem busca medir de forma *relativa* o valor de uma ação comparando com o valor médio das ações naquele estado. Se o valor da vantagem é positivo, levamos o nosso gradiente nesta direção.\n",
    "\n",
    "Uma das formas de estimar o valor de A(s, a) é usando o nosso velho amigo **bootstrapping**, onde podemos estimar o Q da seguinte forma:\n",
    "\n",
    "$$Q(s,a) = r + \\gamma V(s')$$\n",
    "\n",
    "Reescrevendo a vantagem, temos que ela pode ser aproximada a seguir:\n",
    "\n",
    "$$A(s,a) = r + \\gamma V(s') - V(s)$$\n",
    "\n",
    "É interessante notar que essa forma de aproximar a vantagem usa o mesmo cálculo do Erro de Temporal Difference: $\\delta_t = r + \\gamma V(s') - V(s)$. Apesar disso, a vantagem também pode ser aproximada de outras maneiras.\n",
    "\n",
    "Com essa fórmula, precisamos estimar somente V e não Q. Existem outras formas de estimar a vantagem, como a [Generalized Advantage Estimation](https://arxiv.org/pdf/1506.02438.pdf)\n",
    "\n",
    "Dessa forma, podemos estimar o gradiente do Advantage Actor-Critic pela seguinte equação:\n",
    "\n",
    "$$\\nabla_\\theta J(\\theta) \\approx \\sum_{t = 0}^{T-1}  \\nabla_\\theta log \\pi_\\theta(s,a)(r_{t+1} + \\gamma V(s_{t+1}) - V(s_t))$$\n",
    "\n",
    "### A3C vs A2C\n",
    "\n",
    "O algoritmo inicial foi o A3C (Asynchronous Advantage Actor Critic), por meio de um paper da Deepmind ([Paper de A3C](https://arxiv.org/abs/1602.01783)). Segundo a OpenAI, a parte assíncrona do A3C não traz grande vantagem e é menos eficiente, por isso a ideia do A2C. Não tenho capacidade de entrar no mérito, então vou só pontuar as diferenças.\n",
    "\n",
    "\n",
    "Ambos os algoritmos atuam em múltiplos ambientes simultâneos, mas enquanto o A3C é atualizado cada vez que um deles termina uma batch de experiências, por isso assíncrono, o A2C espera todos os agentes obterem uma batch para então atualizar com todas simultaneamente, usando a média do update. As diferenças podem ser conferidas [neste link da OpenAI](https://openai.com/blog/baselines-acktr-a2c/).\n",
    "\n",
    "## Algoritmo do A2C\n",
    "\n",
    "O pseudocódigo do A2C pode ser visto na imagem a seguir:\n",
    "\n",
    "<img src=\"imgs/A2C.svg\" width=\"800\" title=\"pseudocode\" />\n",
    "\n",
    "\n",
    "É importante ressaltar que essa versão utiliza duas redes neurais, uma para o crítico e outra para o ator, mas implementações com uma só rede são possíveis e serão mostradas abaixo."
   ]
  },
  {
   "cell_type": "markdown",
   "metadata": {},
   "source": [
    "## Referências\n",
    "https://towardsdatascience.com/understanding-actor-critic-methods-931b97b6df3f\n",
    "\n",
    "https://towardsdatascience.com/introduction-to-actor-critic-7642bdb2b3d2\n",
    "\n",
    "https://www.freecodecamp.org/news/an-intro-to-advantage-actor-critic-methods-lets-play-sonic-the-hedgehog-86d6240171d/\n",
    "\n",
    "[http://incompleteideas.net/book/first/ebook](http://incompleteideas.net/book/first/ebook/node66.html#:~:text=Actor%2Dcritic%20methods%20are%20TD,independent%20of%20the%20value%20function.&text=This%20scalar%20signal%20is%20the,%3A%20The%20actor%2Dcritic%20architecture)\n",
    "\n",
    "https://openai.com/blog/baselines-acktr-a2c/\n",
    "\n",
    "https://spinningup.openai.com/en/latest/spinningup/rl_intro3.html#id14\n"
   ]
  },
  {
   "cell_type": "markdown",
   "metadata": {
    "id": "btLijj8y7gLH"
   },
   "source": [
    "# Código\n"
   ]
  },
  {
   "cell_type": "markdown",
   "metadata": {
    "id": "YkTEyq25ms2B"
   },
   "source": [
    "## Ator"
   ]
  },
  {
   "cell_type": "code",
   "execution_count": 1,
   "metadata": {
    "id": "JOdt9KwNmcFR"
   },
   "outputs": [],
   "source": [
    "import torch.nn as nn\n",
    "import torch.nn.functional as F\n",
    "from torch.distributions import Categorical\n",
    "\n",
    "class Actor(nn.Module):\n",
    "    \"\"\"Rede do Ator.\"\"\"\n",
    "    def __init__(self, observation_shape, action_shape):\n",
    "        \"\"\"Inicializa a rede.\n",
    "        \n",
    "        Parâmetros\n",
    "        ----------\n",
    "        observation_shape: int\n",
    "        Formato do estado do ambiente.\n",
    "        \n",
    "        action_shape: int\n",
    "        Número de ações do ambiente.\n",
    "        \"\"\"\n",
    "        super(Actor, self).__init__()\n",
    "\n",
    "        self.linear1 = nn.Linear(observation_shape, 128)\n",
    "        self.linear2 = nn.Linear(128, 128)\n",
    "        self.linear3 = nn.Linear(128, action_shape)\n",
    "\n",
    "    def forward(self, state):\n",
    "        \"\"\"\n",
    "        Calcula a probabilidade de ação para o estado atual.\n",
    "        \n",
    "        Parâmetros\n",
    "        ----------\n",
    "        state: np.array\n",
    "        Estado atual.\n",
    "        \n",
    "        Retorna\n",
    "        -------\n",
    "        probs: Categorical\n",
    "        Distribuição de probabilidade das ações.\n",
    "        \"\"\"\n",
    "        dists = F.relu(self.linear1(state))\n",
    "        dists = F.relu(self.linear2(dists))\n",
    "        dists = F.softmax(self.linear3(dists), dim=1)\n",
    "        probs = Categorical(dists)\n",
    "\n",
    "        return probs"
   ]
  },
  {
   "cell_type": "markdown",
   "metadata": {
    "id": "TDbUOyZDmu6o"
   },
   "source": [
    "## Crítico"
   ]
  },
  {
   "cell_type": "code",
   "execution_count": 2,
   "metadata": {
    "id": "L2Ne0at-msW4"
   },
   "outputs": [],
   "source": [
    "import torch.nn as nn\n",
    "import torch.nn.functional as F\n",
    "\n",
    "class Critic(nn.Module):\n",
    "    \"\"\"Rede do Crítico.\"\"\"\n",
    "    def __init__(self, observation_shape):\n",
    "        \"\"\"Inicializa a rede.\n",
    "        \n",
    "        Parâmetros\n",
    "        ----------\n",
    "        observation_shape: int\n",
    "        Formato do estado do ambiente.\n",
    "        \"\"\"\n",
    "        super(Critic, self).__init__()\n",
    "\n",
    "        self.linear1 = nn.Linear(observation_shape, 64)\n",
    "        self.linear2 = nn.Linear(64, 64)\n",
    "        self.linear3 = nn.Linear(64, 1)\n",
    "\n",
    "    def forward(self, state):\n",
    "        \"\"\"\n",
    "        Calcula o valor do estado atual.\n",
    "        \n",
    "        Parâmetros\n",
    "        ----------\n",
    "        state: np.array\n",
    "        Estado atual.\n",
    "        \n",
    "        Retorna\n",
    "        -------\n",
    "        v: float\n",
    "        Valor do estado atual.\n",
    "        \"\"\"\n",
    "        v = F.relu(self.linear1(state))\n",
    "        v = F.relu(self.linear2(v))\n",
    "        v = self.linear3(v)\n",
    "\n",
    "        return v"
   ]
  },
  {
   "cell_type": "markdown",
   "metadata": {
    "id": "1ZiSoaCSnX-3"
   },
   "source": [
    "## Memory Buffer"
   ]
  },
  {
   "cell_type": "code",
   "execution_count": 3,
   "metadata": {
    "id": "oh5ztI22nXiX"
   },
   "outputs": [],
   "source": [
    "import numpy as np\n",
    "\n",
    "class MemoryBuffer:\n",
    "    \"\"\"Memory Buffer Buffer para A2C.\"\"\"\n",
    "    def __init__(self, max_length, observation_space):\n",
    "        \"\"\"Cria um Replay Buffer.\n",
    "\n",
    "        Parâmetros\n",
    "        ----------\n",
    "        max_length: int\n",
    "            Tamanho máximo do Replay Buffer.\n",
    "        observation_space: int\n",
    "            Tamanho do espaço de observação.\n",
    "        \"\"\"\n",
    "        self.length = 0\n",
    "        self.max_length = max_length\n",
    "\n",
    "        self.states = np.zeros((max_length, observation_space), dtype=np.float32)\n",
    "        self.actions = np.zeros((max_length), dtype=np.int32)\n",
    "        self.rewards = np.zeros((max_length), dtype=np.float32)\n",
    "        self.next_states = np.zeros((max_length, observation_space), dtype=np.float32)\n",
    "        self.dones = np.zeros((max_length), dtype=np.float32)\n",
    "\n",
    "    def update(self, states, actions, rewards, next_states, dones):\n",
    "        \"\"\"Adiciona uma experiência ao Replay Buffer.\n",
    "\n",
    "        Parâmetros\n",
    "        ----------\n",
    "        state: np.array\n",
    "            Estado da transição.\n",
    "        action: int\n",
    "            Ação tomada.\n",
    "        reward: float\n",
    "            Recompensa recebida.\n",
    "        state: np.array\n",
    "            Estado seguinte.\n",
    "        done: int\n",
    "            Flag indicando se o episódio acabou.\n",
    "        \"\"\"\n",
    "        self.states[self.length] = states\n",
    "        self.actions[self.length] = actions\n",
    "        self.rewards[self.length] = rewards\n",
    "        self.next_states[self.length] = next_states\n",
    "        self.dones[self.length] = dones\n",
    "        self.length += 1\n",
    "\n",
    "    def get_batch(self):\n",
    "        \"\"\"Retorna um batch de experiências.\n",
    "        \n",
    "        Parâmetros\n",
    "        ----------\n",
    "        batch_size: int\n",
    "            Tamanho do batch de experiências.\n",
    "\n",
    "        Retorna\n",
    "        -------\n",
    "        states: np.array\n",
    "            Batch de estados.\n",
    "        actions: np.array\n",
    "            Batch de ações.\n",
    "        rewards: np.array\n",
    "            Batch de recompensas.\n",
    "        next_states: np.array\n",
    "            Batch de estados seguintes.\n",
    "        dones: np.array\n",
    "            Batch de flags indicando se o episódio acabou.\n",
    "        \"\"\"\n",
    "        self.length = 0\n",
    "\n",
    "        return (self.states, self.actions, self.rewards, self.next_states, self.dones)"
   ]
  },
  {
   "cell_type": "markdown",
   "metadata": {
    "id": "-u-dalX7m-Co"
   },
   "source": [
    "## Agente"
   ]
  },
  {
   "cell_type": "code",
   "execution_count": 4,
   "metadata": {
    "id": "xPhl6Qgnm9dX"
   },
   "outputs": [],
   "source": [
    "import torch\n",
    "import torch.optim as optim\n",
    "\n",
    "class A2C:\n",
    "    def __init__(self, observation_space, action_space, p_lr=5e-4, v_lr=7e-4, gamma=0.99, entropy_coef=0.005, n_steps=5):\n",
    "        self.device = torch.device(\"cuda\" if torch.cuda.is_available() else \"cpu\")\n",
    "\n",
    "        self.gamma = gamma\n",
    "        self.entropy_coef = entropy_coef\n",
    "\n",
    "        self.n_steps = n_steps\n",
    "        self.memory = MemoryBuffer(n_steps, observation_space.shape[0])\n",
    "\n",
    "        self.actor = Actor(observation_space.shape[0], action_space.n).to(self.device)\n",
    "        self.critic = Critic(observation_space.shape[0]).to(self.device)\n",
    "\n",
    "        self.actor_optimizer = optim.Adam(self.actor.parameters(), lr=p_lr)\n",
    "        self.critic_optimizer = optim.Adam(self.critic.parameters(), lr=v_lr)\n",
    "\n",
    "    def act(self, state):\n",
    "        state = torch.FloatTensor(state).to(self.device).unsqueeze(0)\n",
    "        probs = self.actor.forward(state)\n",
    "        \n",
    "        action = probs.sample().cpu().detach().item()\n",
    "        return action\n",
    "\n",
    "    def remember(self, state, action, reward, next_state, done):\n",
    "        self.memory.update(state, action, reward, next_state, done)\n",
    "\n",
    "    def compute_advantages(self, rewards, dones, v, v2):\n",
    "        T = len(rewards)\n",
    "\n",
    "        returns = torch.zeros_like(rewards).to(self.device)\n",
    "        advantages = torch.zeros_like(rewards).to(self.device)\n",
    "        \n",
    "        next_return = torch.tensor(v2[-1], dtype=rewards.dtype).to(self.device)\n",
    "\n",
    "        not_dones = 1 - dones\n",
    "        advantages = rewards + not_dones * self.gamma * v2 - v\n",
    "\n",
    "        for t in reversed(range(T)):\n",
    "            returns[t] = next_return = rewards[t] + self.gamma * not_dones[t] * next_return\n",
    "\n",
    "        advantages = (advantages - advantages.mean()) / (advantages.std() + 1e-8) # Normalização\n",
    "\n",
    "        return advantages, returns\n",
    "\n",
    "    def train(self):\n",
    "        if self.memory.length < self.n_steps:\n",
    "            return\n",
    "\n",
    "        (states, actions, rewards, next_states, dones) = self.memory.get_batch()\n",
    "\n",
    "        states = torch.FloatTensor(states).to(self.device)\n",
    "        actions = torch.FloatTensor(actions).to(self.device)\n",
    "        rewards = torch.FloatTensor(rewards).unsqueeze(-1).to(self.device)\n",
    "        next_states = torch.FloatTensor(next_states).to(self.device)\n",
    "        dones = torch.FloatTensor(dones).unsqueeze(-1).to(self.device)\n",
    "\n",
    "        v = self.critic.forward(states)\n",
    "        with torch.no_grad():\n",
    "          v2 = self.critic.forward(next_states)\n",
    "\n",
    "        advantages, returns = self.compute_advantages(rewards, dones, v, v2)\n",
    "\n",
    "        probs = self.actor.forward(states)\n",
    "        logp = -probs.log_prob(actions)\n",
    "        entropy = probs.entropy().mean()\n",
    "\n",
    "        policy_loss =   (logp.unsqueeze(-1) * advantages.detach()).mean()\n",
    "        value_loss =    F.mse_loss(v, returns.detach())\n",
    "        entropy_loss = -self.entropy_coef * entropy\n",
    "\n",
    "        self.actor_optimizer.zero_grad()\n",
    "        (policy_loss + entropy_loss).backward()\n",
    "        self.actor_optimizer.step()\n",
    "\n",
    "        self.critic_optimizer.zero_grad()\n",
    "        value_loss.backward()\n",
    "        self.critic_optimizer.step()\n",
    "\n",
    "        return float(policy_loss + entropy_loss + value_loss)"
   ]
  },
  {
   "cell_type": "markdown",
   "metadata": {
    "id": "iu7U6Vmzoydm"
   },
   "source": [
    "## Treinando"
   ]
  },
  {
   "cell_type": "code",
   "execution_count": 5,
   "metadata": {
    "id": "zI1aZ7DypOfN"
   },
   "outputs": [],
   "source": [
    "import math\n",
    "from collections import deque\n",
    "\n",
    "def train(agent, env, total_timesteps):\n",
    "    total_reward = 0\n",
    "    episode_returns = deque(maxlen=20)\n",
    "    avg_returns = []\n",
    "\n",
    "    state = env.reset()\n",
    "    timestep = 0\n",
    "    episode = 0\n",
    "\n",
    "    while timestep < total_timesteps:\n",
    "        action = agent.act(state)\n",
    "        next_state, reward, done, _ = env.step(action)\n",
    "        agent.remember(state, action, reward, next_state, done)\n",
    "        loss = agent.train()\n",
    "        timestep += 1\n",
    "\n",
    "        total_reward += reward\n",
    "\n",
    "        if done:\n",
    "            episode_returns.append(total_reward)\n",
    "            episode += 1\n",
    "            next_state = env.reset()\n",
    "\n",
    "        if episode_returns:\n",
    "            avg_returns.append(np.mean(episode_returns))\n",
    "\n",
    "        total_reward *= 1 - done\n",
    "        state = next_state\n",
    "\n",
    "        ratio = math.ceil(100 * timestep / total_timesteps)\n",
    "\n",
    "        avg_return = avg_returns[-1] if avg_returns else np.nan\n",
    "        \n",
    "        print(f\"\\r[{ratio:3d}%] timestep = {timestep}/{total_timesteps}, episode = {episode:3d}, avg_return = {avg_return:10.4f}\", end=\"\")\n",
    "\n",
    "    return avg_returns"
   ]
  },
  {
   "cell_type": "code",
   "execution_count": 6,
   "metadata": {
    "id": "1OGWuPmeox9X"
   },
   "outputs": [],
   "source": [
    "import gym\n",
    "\n",
    "env = gym.make(\"CartPole-v1\")"
   ]
  },
  {
   "cell_type": "code",
   "execution_count": 7,
   "metadata": {
    "id": "BMax8WJxo01m"
   },
   "outputs": [],
   "source": [
    "agent = A2C(env.observation_space, env.action_space)"
   ]
  },
  {
   "cell_type": "code",
   "execution_count": 8,
   "metadata": {
    "colab": {
     "base_uri": "https://localhost:8080/",
     "height": 70
    },
    "id": "IcWebqIBo2PG",
    "outputId": "03febf33-a844-449b-80f0-225a840f400e"
   },
   "outputs": [
    {
     "name": "stdout",
     "output_type": "stream",
     "text": [
      "\r",
      "[  1%] timestep = 1/75000, episode =   0, avg_return =        nan\r",
      "[  1%] timestep = 2/75000, episode =   0, avg_return =        nan\r",
      "[  1%] timestep = 3/75000, episode =   0, avg_return =        nan\r",
      "[  1%] timestep = 4/75000, episode =   0, avg_return =        nan\r",
      "[  1%] timestep = 5/75000, episode =   0, avg_return =        nan\r",
      "[  1%] timestep = 6/75000, episode =   0, avg_return =        nan\r",
      "[  1%] timestep = 7/75000, episode =   0, avg_return =        nan\r",
      "[  1%] timestep = 8/75000, episode =   0, avg_return =        nan\r",
      "[  1%] timestep = 9/75000, episode =   0, avg_return =        nan\r",
      "[  1%] timestep = 10/75000, episode =   0, avg_return =        nan\r",
      "[  1%] timestep = 11/75000, episode =   0, avg_return =        nan\r",
      "[  1%] timestep = 12/75000, episode =   0, avg_return =        nan\r",
      "[  1%] timestep = 13/75000, episode =   0, avg_return =        nan\r",
      "[  1%] timestep = 14/75000, episode =   0, avg_return =        nan\r",
      "[  1%] timestep = 15/75000, episode =   0, avg_return =        nan\r",
      "[  1%] timestep = 16/75000, episode =   0, avg_return =        nan\r",
      "[  1%] timestep = 17/75000, episode =   0, avg_return =        nan\r",
      "[  1%] timestep = 18/75000, episode =   0, avg_return =        nan\r",
      "[  1%] timestep = 19/75000, episode =   0, avg_return =        nan\r",
      "[  1%] timestep = 20/75000, episode =   0, avg_return =        nan\r",
      "[  1%] timestep = 21/75000, episode =   1, avg_return =    21.0000\r",
      "[  1%] timestep = 22/75000, episode =   1, avg_return =    21.0000\r",
      "[  1%] timestep = 23/75000, episode =   1, avg_return =    21.0000\r",
      "[  1%] timestep = 24/75000, episode =   1, avg_return =    21.0000\r",
      "[  1%] timestep = 25/75000, episode =   1, avg_return =    21.0000\r",
      "[  1%] timestep = 26/75000, episode =   1, avg_return =    21.0000\r",
      "[  1%] timestep = 27/75000, episode =   1, avg_return =    21.0000\r",
      "[  1%] timestep = 28/75000, episode =   1, avg_return =    21.0000\r",
      "[  1%] timestep = 29/75000, episode =   1, avg_return =    21.0000\r",
      "[  1%] timestep = 30/75000, episode =   1, avg_return =    21.0000\r",
      "[  1%] timestep = 31/75000, episode =   1, avg_return =    21.0000\r",
      "[  1%] timestep = 32/75000, episode =   1, avg_return =    21.0000\r",
      "[  1%] timestep = 33/75000, episode =   1, avg_return =    21.0000\r",
      "[  1%] timestep = 34/75000, episode =   1, avg_return =    21.0000\r",
      "[  1%] timestep = 35/75000, episode =   1, avg_return =    21.0000\r",
      "[  1%] timestep = 36/75000, episode =   1, avg_return =    21.0000\r",
      "[  1%] timestep = 37/75000, episode =   1, avg_return =    21.0000\r",
      "[  1%] timestep = 38/75000, episode =   1, avg_return =    21.0000\r",
      "[  1%] timestep = 39/75000, episode =   1, avg_return =    21.0000\r",
      "[  1%] timestep = 40/75000, episode =   2, avg_return =    20.0000"
     ]
    },
    {
     "name": "stderr",
     "output_type": "stream",
     "text": [
      "D:\\ProgramData\\Anaconda3\\lib\\site-packages\\ipykernel_launcher.py:36: UserWarning: To copy construct from a tensor, it is recommended to use sourceTensor.clone().detach() or sourceTensor.clone().detach().requires_grad_(True), rather than torch.tensor(sourceTensor).\n"
     ]
    },
    {
     "name": "stdout",
     "output_type": "stream",
     "text": [
      "[100%] timestep = 75000/75000, episode = 960, avg_return =   340.3500"
     ]
    }
   ],
   "source": [
    "returns = train(agent, env, 75000)"
   ]
  },
  {
   "cell_type": "code",
   "execution_count": 10,
   "metadata": {},
   "outputs": [
    {
     "data": {
      "image/png": "[encoded data removed]",
      "text/plain": [
       "<Figure size 432x288 with 1 Axes>"
      ]
     },
     "metadata": {
      "needs_background": "light"
     },
     "output_type": "display_data"
    }
   ],
   "source": [
    "import matplotlib.pyplot as plt\n",
    "\n",
    "plt.plot(returns, 'r')\n",
    "plt.show()"
   ]
  },
  {
   "cell_type": "markdown",
   "metadata": {},
   "source": [
    "Como foi possível observar, não obtivemos uma performance muito boa com o nosso algoritmo. Dessa forma, para melhorar o nosso resultado, podemos juntar as duas redes de Ator e de Crítico em uma só, usando somente uma função de custo, acelerando o treinamento e o tornando mais robusto."
   ]
  },
  {
   "cell_type": "markdown",
   "metadata": {
    "id": "UYBC2Z14va6v"
   },
   "source": [
    "##  Rede Dividida"
   ]
  },
  {
   "cell_type": "code",
   "execution_count": 11,
   "metadata": {
    "id": "41fE0sOivQ8S"
   },
   "outputs": [],
   "source": [
    "class ActorCritic(nn.Module):\n",
    "    def __init__(self, observation_shape, action_shape):\n",
    "        super(ActorCritic, self).__init__()\n",
    "        self.policy1 = nn.Linear(observation_shape, 64)\n",
    "        self.policy2 = nn.Linear(64, 64)\n",
    "        self.policy3 = nn.Linear(64, action_shape)\n",
    "        \n",
    "        self.value1 = nn.Linear(observation_shape, 64)\n",
    "        self.value2 = nn.Linear(64, 64)\n",
    "        self.value3 = nn.Linear(64, 1)\n",
    "\n",
    "    def forward(self, state):\n",
    "        dists = torch.tanh(self.policy1(state))\n",
    "        dists = torch.tanh(self.policy2(dists))\n",
    "        dists = F.softmax(self.policy3(dists), dim=-1)\n",
    "        probs = Categorical(dists)\n",
    "        \n",
    "        v = torch.tanh(self.value1(state))\n",
    "        v = torch.tanh(self.value2(v))\n",
    "        v = self.value3(v)\n",
    "\n",
    "        return probs, v"
   ]
  },
  {
   "cell_type": "code",
   "execution_count": 16,
   "metadata": {
    "id": "E55ppd0ovfH4"
   },
   "outputs": [],
   "source": [
    "class SharedA2C:\n",
    "    def __init__(self, observation_space, action_space, lr=7e-4, gamma=0.99, lam=0.95, vf_coef=0.5, entropy_coef=0.005, n_steps=5):\n",
    "        self.device = torch.device(\"cuda\" if torch.cuda.is_available() else \"cpu\")\n",
    "\n",
    "        self.gamma = gamma\n",
    "        self.lam = lam\n",
    "        self.vf_coef = vf_coef\n",
    "        self.entropy_coef = entropy_coef\n",
    "\n",
    "        self.n_steps = n_steps\n",
    "        self.memory = MemoryBuffer(n_steps, observation_space.shape[0])\n",
    "\n",
    "        self.actorcritic = ActorCritic(observation_space.shape[0], action_space.n).to(self.device)\n",
    "        self.actorcritic_optimizer = optim.Adam(self.actorcritic.parameters(), lr=lr)\n",
    "\n",
    "    def act(self, state):\n",
    "        state = torch.FloatTensor(state).to(self.device).unsqueeze(0)\n",
    "        probs, _ = self.actorcritic.forward(state)\n",
    "        action = probs.sample().cpu().detach().item()\n",
    "        return action\n",
    "\n",
    "    def remember(self, state, action, reward, next_state, done):\n",
    "        self.memory.update(state, action, reward, next_state, done)\n",
    "\n",
    "    def compute_gae(self, rewards, dones, v, v2):\n",
    "        T = len(rewards)\n",
    "\n",
    "        returns = torch.zeros_like(rewards).to(self.device)\n",
    "        gaes = torch.zeros_like(rewards).to(self.device)\n",
    "        \n",
    "        future_gae = torch.tensor(0.0, dtype=rewards.dtype).to(self.device)\n",
    "        next_return = torch.tensor(v2[-1], dtype=rewards.dtype).to(self.device)\n",
    "\n",
    "        not_dones = 1 - dones\n",
    "        deltas = rewards + not_dones * self.gamma * v2 - v\n",
    "\n",
    "        for t in reversed(range(T)):\n",
    "            returns[t] = next_return = rewards[t] + self.gamma * not_dones[t] * next_return\n",
    "            gaes[t] = future_gae = deltas[t] + self.gamma * self.lam * not_dones[t] * future_gae\n",
    "\n",
    "        gaes = (gaes - gaes.mean()) / (gaes.std() + 1e-8) # Normalização\n",
    "\n",
    "        return gaes, returns\n",
    "\n",
    "    def train(self):\n",
    "        if self.memory.length < self.n_steps:\n",
    "            return\n",
    "\n",
    "        (states, actions, rewards, next_states, dones) = self.memory.get_batch()\n",
    "\n",
    "        states = torch.FloatTensor(states).to(self.device)\n",
    "        actions = torch.FloatTensor(actions).to(self.device)\n",
    "        rewards = torch.FloatTensor(rewards).unsqueeze(-1).to(self.device)\n",
    "        next_states = torch.FloatTensor(next_states).to(self.device)\n",
    "        dones = torch.FloatTensor(dones).unsqueeze(-1).to(self.device)\n",
    "\n",
    "        probs, v = self.actorcritic.forward(states)\n",
    "        with torch.no_grad():\n",
    "          _, v2 = self.actorcritic.forward(next_states)\n",
    "\n",
    "        advantages, returns = self.compute_gae(rewards, dones, v, v2)\n",
    "\n",
    "        logp = -probs.log_prob(actions)\n",
    "        entropy = probs.entropy().mean()\n",
    "\n",
    "        policy_loss =   (logp.unsqueeze(-1) * advantages.detach()).mean()\n",
    "        value_loss =    self.vf_coef * F.mse_loss(v, returns.detach())\n",
    "        entropy_loss = -self.entropy_coef * entropy\n",
    "\n",
    "        self.actorcritic_optimizer.zero_grad()\n",
    "        (policy_loss + entropy_loss + value_loss).backward()\n",
    "        self.actorcritic_optimizer.step()\n",
    "\n",
    "        return policy_loss + entropy_loss + value_loss"
   ]
  },
  {
   "cell_type": "code",
   "execution_count": 17,
   "metadata": {
    "id": "SGtTSQ-pwDrI"
   },
   "outputs": [],
   "source": [
    "env = gym.make(\"CartPole-v1\")"
   ]
  },
  {
   "cell_type": "code",
   "execution_count": 18,
   "metadata": {
    "id": "hyUcshjiwDrL"
   },
   "outputs": [],
   "source": [
    "agent = SharedA2C(env.observation_space, env.action_space)"
   ]
  },
  {
   "cell_type": "code",
   "execution_count": 19,
   "metadata": {
    "colab": {
     "base_uri": "https://localhost:8080/",
     "height": 70
    },
    "id": "CMrVG7wHwDrN",
    "outputId": "2046e3bc-d957-487b-e431-5215bca2679c"
   },
   "outputs": [
    {
     "name": "stdout",
     "output_type": "stream",
     "text": [
      "\r",
      "[  1%] timestep = 1/75000, episode =   0, avg_return =        nan\r",
      "[  1%] timestep = 2/75000, episode =   0, avg_return =        nan\r",
      "[  1%] timestep = 3/75000, episode =   0, avg_return =        nan\r",
      "[  1%] timestep = 4/75000, episode =   0, avg_return =        nan\r",
      "[  1%] timestep = 5/75000, episode =   0, avg_return =        nan\r",
      "[  1%] timestep = 6/75000, episode =   0, avg_return =        nan\r",
      "[  1%] timestep = 7/75000, episode =   0, avg_return =        nan\r",
      "[  1%] timestep = 8/75000, episode =   0, avg_return =        nan\r",
      "[  1%] timestep = 9/75000, episode =   0, avg_return =        nan\r",
      "[  1%] timestep = 10/75000, episode =   0, avg_return =        nan\r",
      "[  1%] timestep = 11/75000, episode =   0, avg_return =        nan\r",
      "[  1%] timestep = 12/75000, episode =   0, avg_return =        nan\r",
      "[  1%] timestep = 13/75000, episode =   0, avg_return =        nan\r",
      "[  1%] timestep = 14/75000, episode =   0, avg_return =        nan\r",
      "[  1%] timestep = 15/75000, episode =   0, avg_return =        nan\r",
      "[  1%] timestep = 16/75000, episode =   0, avg_return =        nan\r",
      "[  1%] timestep = 17/75000, episode =   0, avg_return =        nan\r",
      "[  1%] timestep = 18/75000, episode =   1, avg_return =    18.0000\r",
      "[  1%] timestep = 19/75000, episode =   1, avg_return =    18.0000\r",
      "[  1%] timestep = 20/75000, episode =   1, avg_return =    18.0000\r",
      "[  1%] timestep = 21/75000, episode =   1, avg_return =    18.0000\r",
      "[  1%] timestep = 22/75000, episode =   1, avg_return =    18.0000\r",
      "[  1%] timestep = 23/75000, episode =   1, avg_return =    18.0000\r",
      "[  1%] timestep = 24/75000, episode =   1, avg_return =    18.0000\r",
      "[  1%] timestep = 25/75000, episode =   1, avg_return =    18.0000\r",
      "[  1%] timestep = 26/75000, episode =   1, avg_return =    18.0000\r",
      "[  1%] timestep = 27/75000, episode =   1, avg_return =    18.0000\r",
      "[  1%] timestep = 28/75000, episode =   1, avg_return =    18.0000\r",
      "[  1%] timestep = 29/75000, episode =   1, avg_return =    18.0000\r",
      "[  1%] timestep = 30/75000, episode =   1, avg_return =    18.0000\r",
      "[  1%] timestep = 31/75000, episode =   1, avg_return =    18.0000\r",
      "[  1%] timestep = 32/75000, episode =   1, avg_return =    18.0000\r",
      "[  1%] timestep = 33/75000, episode =   1, avg_return =    18.0000\r",
      "[  1%] timestep = 34/75000, episode =   1, avg_return =    18.0000\r",
      "[  1%] timestep = 35/75000, episode =   1, avg_return =    18.0000"
     ]
    },
    {
     "name": "stderr",
     "output_type": "stream",
     "text": [
      "D:\\ProgramData\\Anaconda3\\lib\\site-packages\\ipykernel_launcher.py:32: UserWarning: To copy construct from a tensor, it is recommended to use sourceTensor.clone().detach() or sourceTensor.clone().detach().requires_grad_(True), rather than torch.tensor(sourceTensor).\n"
     ]
    },
    {
     "name": "stdout",
     "output_type": "stream",
     "text": [
      "[100%] timestep = 75000/75000, episode = 661, avg_return =   500.0000"
     ]
    }
   ],
   "source": [
    "returns = train(agent, env, 75000)"
   ]
  },
  {
   "cell_type": "code",
   "execution_count": 20,
   "metadata": {},
   "outputs": [
    {
     "data": {
      "image/png": "[encoded data removed]",
      "text/plain": [
       "<Figure size 432x288 with 1 Axes>"
      ]
     },
     "metadata": {
      "needs_background": "light"
     },
     "output_type": "display_data"
    }
   ],
   "source": [
    "import matplotlib.pyplot as plt\n",
    "\n",
    "plt.plot(returns, 'r')\n",
    "plt.show()"
   ]
  },
  {
   "cell_type": "markdown",
   "metadata": {
    "id": "xxAjgrZ81D0e"
   },
   "source": [
    "## Múltiplos Ambientes"
   ]
  },
  {
   "cell_type": "code",
   "execution_count": 21,
   "metadata": {
    "id": "9fmNerrB1cAU"
   },
   "outputs": [],
   "source": [
    "import numpy as np\n",
    "\n",
    "class MultipleMemoryBuffer:\n",
    "    def __init__(self, max_length, env_num, observation_space):\n",
    "        self.length = 0\n",
    "        self.max_length = max_length\n",
    "\n",
    "        self.states = np.zeros((max_length, env_num, observation_space), dtype=np.float32)\n",
    "        self.actions = np.zeros((max_length, env_num), dtype=np.int32)\n",
    "        self.rewards = np.zeros((max_length, env_num), dtype=np.float32)\n",
    "        self.next_states = np.zeros((max_length, env_num, observation_space), dtype=np.float32)\n",
    "        self.dones = np.zeros((max_length, env_num), dtype=np.float32)\n",
    "\n",
    "    def update(self, states, actions, rewards, next_states, dones):\n",
    "        self.states[self.length] = states\n",
    "        self.actions[self.length] = actions\n",
    "        self.rewards[self.length] = rewards\n",
    "        self.next_states[self.length] = next_states\n",
    "        self.dones[self.length] = dones\n",
    "        self.length += 1\n",
    "\n",
    "    def get_batch(self):\n",
    "        self.length = 0\n",
    "\n",
    "        return (self.states, self.actions, self.rewards, self.next_states, self.dones)"
   ]
  },
  {
   "cell_type": "code",
   "execution_count": 22,
   "metadata": {
    "id": "99fj4r0U1Caq"
   },
   "outputs": [],
   "source": [
    "class ActorCritic(nn.Module):\n",
    "    def __init__(self, observation_shape, action_shape):\n",
    "        super(ActorCritic, self).__init__()\n",
    "        self.policy1 = nn.Linear(observation_shape, 64)\n",
    "        self.policy2 = nn.Linear(64, 64)\n",
    "        self.policy3 = nn.Linear(64, action_shape)\n",
    "        \n",
    "        self.value1 = nn.Linear(observation_shape, 64)\n",
    "        self.value2 = nn.Linear(64, 64)\n",
    "        self.value3 = nn.Linear(64, 1)\n",
    "\n",
    "    def forward(self, state):\n",
    "        dists = torch.tanh(self.policy1(state))\n",
    "        dists = torch.tanh(self.policy2(dists))\n",
    "        dists = F.softmax(self.policy3(dists), dim=-1)\n",
    "        probs = Categorical(dists)\n",
    "        \n",
    "        v = torch.tanh(self.value1(state))\n",
    "        v = torch.tanh(self.value2(v))\n",
    "        v = self.value3(v)\n",
    "\n",
    "        return probs, v"
   ]
  },
  {
   "cell_type": "code",
   "execution_count": 23,
   "metadata": {
    "id": "ZgpS39h31JDg"
   },
   "outputs": [],
   "source": [
    "class SharedA2C:\n",
    "    def __init__(self, observation_space, action_space, env_num, lr=7e-4, gamma=0.99, lam=0.95, vf_coef=0.5, entropy_coef=0.005, n_steps=5):\n",
    "        self.device = torch.device(\"cuda\" if torch.cuda.is_available() else \"cpu\")\n",
    "\n",
    "        self.gamma = gamma\n",
    "        self.lam = lam\n",
    "        self.vf_coef = vf_coef\n",
    "        self.entropy_coef = entropy_coef\n",
    "\n",
    "        self.n_steps = n_steps\n",
    "        self.memory = MultipleMemoryBuffer(n_steps, env_num, observation_space.shape[0])\n",
    "\n",
    "        self.actorcritic = ActorCritic(observation_space.shape[0], action_space.n).to(self.device)\n",
    "        self.actorcritic_optimizer = optim.Adam(self.actorcritic.parameters(), lr=lr)\n",
    "\n",
    "    def act(self, state):\n",
    "        state = torch.FloatTensor(state).to(self.device)\n",
    "        probs, _ = self.actorcritic.forward(state)\n",
    "        action = probs.sample().cpu().detach().numpy()\n",
    "        return action\n",
    "\n",
    "    def remember(self, state, action, reward, next_state, done):\n",
    "        self.memory.update(state, action, reward, next_state, done)\n",
    "\n",
    "    def compute_gae(self, rewards, dones, v, v2):\n",
    "        T = len(rewards)\n",
    "\n",
    "        returns = torch.zeros_like(rewards).to(self.device)\n",
    "        gaes = torch.zeros_like(rewards).to(self.device)\n",
    "        \n",
    "        future_gae = torch.tensor(0.0, dtype=rewards.dtype).to(self.device)\n",
    "        next_return = torch.tensor(v2[-1], dtype=rewards.dtype).to(self.device)\n",
    "\n",
    "        not_dones = 1 - dones\n",
    "        deltas = rewards + not_dones * self.gamma * v2 - v\n",
    "\n",
    "        for t in reversed(range(T)):\n",
    "            returns[t] = next_return = rewards[t] + self.gamma * not_dones[t] * next_return\n",
    "            gaes[t] = future_gae = deltas[t] + self.gamma * self.lam * not_dones[t] * future_gae\n",
    "\n",
    "        gaes = (gaes - gaes.mean()) / (gaes.std() + 1e-8) # Normalização\n",
    "\n",
    "        return gaes, returns\n",
    "\n",
    "    def train(self):\n",
    "        if self.memory.length < self.n_steps:\n",
    "            return\n",
    "\n",
    "        (states, actions, rewards, next_states, dones) = self.memory.get_batch()\n",
    "\n",
    "        states = torch.FloatTensor(states).to(self.device)\n",
    "        actions = torch.FloatTensor(actions).to(self.device)\n",
    "        rewards = torch.FloatTensor(rewards).unsqueeze(-1).to(self.device)\n",
    "        next_states = torch.FloatTensor(next_states).to(self.device)\n",
    "        dones = torch.FloatTensor(dones).unsqueeze(-1).to(self.device)\n",
    "\n",
    "        probs, v = self.actorcritic.forward(states)\n",
    "        with torch.no_grad():\n",
    "          _, v2 = self.actorcritic.forward(next_states)\n",
    "\n",
    "        advantages, returns = self.compute_gae(rewards, dones, v, v2)\n",
    "\n",
    "        logp = -probs.log_prob(actions)\n",
    "        entropy = probs.entropy().mean()\n",
    "\n",
    "        policy_loss =   (logp.unsqueeze(-1) * advantages.detach()).mean()\n",
    "        value_loss =    self.vf_coef * F.mse_loss(v, returns.detach())\n",
    "        entropy_loss = -self.entropy_coef * entropy\n",
    "\n",
    "        self.actorcritic_optimizer.zero_grad()\n",
    "        (policy_loss + entropy_loss + value_loss).backward()\n",
    "        self.actorcritic_optimizer.step()\n",
    "\n",
    "        return policy_loss + entropy_loss + value_loss"
   ]
  },
  {
   "cell_type": "code",
   "execution_count": 24,
   "metadata": {
    "id": "zhpeeumo1Jvg"
   },
   "outputs": [],
   "source": [
    "env = gym.vector.make(\"CartPole-v1\", num_envs=8, asynchronous=True)"
   ]
  },
  {
   "cell_type": "code",
   "execution_count": 25,
   "metadata": {
    "id": "jhILSotY2D4q"
   },
   "outputs": [],
   "source": [
    "agent = SharedA2C(env.single_observation_space, env.single_action_space, env.num_envs)"
   ]
  },
  {
   "cell_type": "code",
   "execution_count": 26,
   "metadata": {
    "id": "Y_Ype5FR2R4i"
   },
   "outputs": [],
   "source": [
    "import time\n",
    "\n",
    "def vector_train(agent, env, total_timesteps):\n",
    "    total_rewards = [[] for _ in range(env.num_envs)]\n",
    "    avg_total_rewards = []\n",
    "\n",
    "    total_reward = np.zeros(env.num_envs)\n",
    "    observations = env.reset()\n",
    "    timestep = 0\n",
    "    episode = 0\n",
    "\n",
    "    t = 0\n",
    "\n",
    "    start_time = time.time()\n",
    "\n",
    "    while timestep < total_timesteps:\n",
    "        actions = agent.act(observations)\n",
    "        next_observations, rewards, dones, _ = env.step(actions)\n",
    "        agent.remember(observations, actions, rewards, next_observations, dones)\n",
    "        agent.train()\n",
    "        \n",
    "        timestep += len(observations)\n",
    "        t += 1\n",
    "\n",
    "        total_reward += rewards\n",
    "\n",
    "        for i in range(env.num_envs):\n",
    "            if dones[i]:\n",
    "                total_rewards[i].append((t, timestep, total_reward[i]))\n",
    "                episode += 1\n",
    "\n",
    "        if any(G for G in total_rewards):\n",
    "            episode_returns = sorted(\n",
    "                list(np.concatenate([G for G in total_rewards if G])),\n",
    "                key=lambda x: x[1]\n",
    "            )\n",
    "\n",
    "            avg_total_rewards.append(np.mean([G[-1] for G in episode_returns[-20:]]))\n",
    "\n",
    "        total_reward *= 1 - dones\n",
    "        observations = next_observations\n",
    "\n",
    "        ratio = math.ceil(100 * timestep / total_timesteps)\n",
    "        uptime = math.ceil(time.time() - start_time)\n",
    "\n",
    "        avg_return = avg_total_rewards[-1] if avg_total_rewards else np.nan\n",
    "\n",
    "        print(f\"\\r[{ratio:3d}% / {uptime:3d}s] timestep = {timestep}/{total_timesteps}, episode = {episode:3d}, avg_return = {avg_return:10.4f}\", end=\"\")\n",
    "\n",
    "    print(\"\\n\")\n",
    "    return avg_total_rewards"
   ]
  },
  {
   "cell_type": "code",
   "execution_count": 27,
   "metadata": {
    "colab": {
     "base_uri": "https://localhost:8080/",
     "height": 87
    },
    "id": "O9tdu0NF2bXd",
    "outputId": "5285a9d3-8c92-4340-9858-408851a77f8e"
   },
   "outputs": [
    {
     "name": "stdout",
     "output_type": "stream",
     "text": [
      "\r",
      "[  1% /   1s] timestep = 8/125000, episode =   0, avg_return =        nan\r",
      "[  1% /   1s] timestep = 16/125000, episode =   0, avg_return =        nan\r",
      "[  1% /   1s] timestep = 24/125000, episode =   0, avg_return =        nan\r",
      "[  1% /   1s] timestep = 32/125000, episode =   0, avg_return =        nan"
     ]
    },
    {
     "name": "stderr",
     "output_type": "stream",
     "text": [
      "D:\\ProgramData\\Anaconda3\\lib\\site-packages\\ipykernel_launcher.py:32: UserWarning: To copy construct from a tensor, it is recommended to use sourceTensor.clone().detach() or sourceTensor.clone().detach().requires_grad_(True), rather than torch.tensor(sourceTensor).\n"
     ]
    },
    {
     "name": "stdout",
     "output_type": "stream",
     "text": [
      "[100% / 163s] timestep = 125000/125000, episode = 1219, avg_return =   360.8500\n",
      "\n"
     ]
    }
   ],
   "source": [
    "returns = vector_train(agent, env, 125000)"
   ]
  },
  {
   "cell_type": "code",
   "execution_count": 28,
   "metadata": {},
   "outputs": [
    {
     "data": {
      "image/png": "[encoded data removed]",
      "text/plain": [
       "<Figure size 432x288 with 1 Axes>"
      ]
     },
     "metadata": {
      "needs_background": "light"
     },
     "output_type": "display_data"
    }
   ],
   "source": [
    "import matplotlib.pyplot as plt\n",
    "\n",
    "plt.plot(returns, 'r')\n",
    "plt.show()"
   ]
  }
 ],
 "metadata": {
  "colab": {
   "collapsed_sections": [],
   "name": "A2C.ipynb",
   "provenance": []
  },
  "kernelspec": {
   "display_name": "Python 3",
   "language": "python",
   "name": "python3"
  },
  "language_info": {
   "codemirror_mode": {
    "name": "ipython",
    "version": 3
   },
   "file_extension": ".py",
   "mimetype": "text/x-python",
   "name": "python",
   "nbconvert_exporter": "python",
   "pygments_lexer": "ipython3",
   "version": "3.7.6"
  }
 },
 "nbformat": 4,
 "nbformat_minor": 1
}