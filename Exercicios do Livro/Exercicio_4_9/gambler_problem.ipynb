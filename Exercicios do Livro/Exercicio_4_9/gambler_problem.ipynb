{
 "cells": [
  {
   "cell_type": "code",
   "execution_count": 4,
   "metadata": {
    "collapsed": true,
    "ExecuteTime": {
     "end_time": "2023-06-19T23:21:22.891133700Z",
     "start_time": "2023-06-19T23:21:22.884082Z"
    }
   },
   "outputs": [],
   "source": [
    "import numpy as np\n",
    "import matplotlib.pyplot as plt"
   ]
  },
  {
   "cell_type": "code",
   "execution_count": 15,
   "outputs": [],
   "source": [
    "class Environment:\n",
    "    def __init__(self, ph, goal):\n",
    "        self.ph = ph\n",
    "        self.goal = goal\n",
    "    def possible_states(self) -> np.ndarray:\n",
    "        \"\"\"\n",
    "        :return: array contendo todos os estados possíveis, neste caso, lista [1, 2 ...., goal-1]\n",
    "        os estados 0 e 100 não existem de verdade no problema, e são apenas utilizados como terminais\n",
    "        \"\"\"\n",
    "        return np.array(range(1, self.goal))\n",
    "\n",
    "    def possible_actions(self, state: int) -> np.ndarray:\n",
    "        \"\"\"\n",
    "        :param state: estado a se obter as ações possíveis\n",
    "        :return: array contendo todas as possíveis ações, dado um estado\n",
    "        \"\"\"\n",
    "        return np.array(range(1, min(state, self.goal-state)+1))\n",
    "\n",
    "    def expected_return(self, state: int, action: int, values: np.ndarray) -> float:\n",
    "        \"\"\"\n",
    "        :param state: estado no qual queremos calcular retorno esperado\n",
    "        :param action: ação realizada\n",
    "        :param values: array numpy contendo os retornos esperados até agora\n",
    "        :return: retorno o esperado deste estado, dado a ação\n",
    "        \"\"\"\n",
    "        # Apenas aplicamos a fórmula do livro, probabilidade de vencer multiplicado por 1 caso seja igual ou ultrapasse $100 somado com o valor esperado do próximo estado, mais a probabilidade de perder, multiplicado pelo valor esperado neste próximo estado\n",
    "        returns = self.ph * ((1 if state + action >= 100 else 0) + values[min(state+action, 100)]) + \\\n",
    "                  (1 - self.ph) * (values[max(state - action, 0)])\n",
    "        return returns\n",
    "\n",
    "def evaluate_greedy_policy(env: Environment, values: np.ndarray) -> float:\n",
    "    \"\"\"\n",
    "    Utilizamos value iteration para atualizar os valores e obter uma policy. Iremos realizar múltiplas iterações sobre todos os estados, atualizando seus valores esperados seguindo sempre a ação dada por uma policy gulosa.\n",
    "    :param env: Ambiente do problema\n",
    "    :param values: Array numpy contendo os retornos esperados de cada estado\n",
    "    :return: valor delta, maior diferença entre um estado antigo e um estado novo\n",
    "    \"\"\"\n",
    "    delta = 0\n",
    "    for state in env.possible_states():\n",
    "        prev = values[state]\n",
    "        # calculamos todos os action values do estado\n",
    "        action_values = calculate_action_values(env, state, values)\n",
    "        # escolhemos para o retorno esperado, o maior entre todos os action-values, ou seja, escolhemos de forma gulosa\n",
    "        values[state] = action_values[random_argmax(action_values)]\n",
    "        delta = max(delta, abs(prev - values[state]))\n",
    "    return delta\n",
    "\n",
    "def random_argmax(array: np.ndarray) -> int:\n",
    "    \"\"\"\n",
    "    :param array: Array numpy unidimensional\n",
    "    :return: endereço escolhido aleatoriamente para um valor máximo\n",
    "    \"\"\"\n",
    "    return np.random.choice(np.flatnonzero(array == array.max(initial=0)))\n",
    "\n",
    "def calculate_action_values(env: Environment, state: int, values: np.ndarray) -> np.ndarray:\n",
    "    \"\"\"\n",
    "    :param env: Ambiente onde se passa o problema\n",
    "    :param state: estado atual\n",
    "    :param values: Array numpy contendo os retornos esperados de cada estado\n",
    "    :return: array contendo todos os action values possíveis a partir deste estado\n",
    "    \"\"\"\n",
    "    action_values = []\n",
    "    # para cada ação possível, calculamos os valores esperados de retorno\n",
    "    for action in env.possible_actions(state):\n",
    "        action_values.append(env.expected_return(state, action, values))\n",
    "    return np.array(action_values)\n",
    "\n",
    "def greedy_policy(env: Environment, values: np.ndarray) -> np.ndarray:\n",
    "    \"\"\"\n",
    "    :param env: Ambiente onde se passa o problema\n",
    "    :param values: Array numpy contendo os retornos esperados de cada estado\n",
    "    :return: array numpy de uma policy gulosa\n",
    "    \"\"\"\n",
    "    policy = []\n",
    "    for state in env.possible_states():\n",
    "        # para cada estado, calculamos seus action values\n",
    "        action_values = calculate_action_values(env, state, values)\n",
    "        greedy_action = np.argmax(action_values)\n",
    "        # greedy_action = random_argmax(action_values)\n",
    "        # em seguida apenas adicionamos a ação que maximiza o action value à policy\n",
    "        policy.append(greedy_action)\n",
    "    return np.array(policy)\n",
    "\n",
    "def iterate(env:Environment, values:np.ndarray, theta: float) -> np.ndarray:\n",
    "    \"\"\"\n",
    "    :param env: Ambiente onde se passa o problema\n",
    "    :param values: Array numpy contendo os retornos esperados de cada estado\n",
    "    :param theta: Parâmetro de convergência\n",
    "    :return: uma policy gulosa para a resolução do problema\n",
    "    \"\"\"\n",
    "    while True:\n",
    "        delta = evaluate_greedy_policy(env, values)\n",
    "        # enquanto delta < theta, continuamos aplicando value-iteration\n",
    "        if delta < theta:\n",
    "            break\n",
    "        print(f\"Delta: {delta}, Theta: {theta}\")\n",
    "    return greedy_policy(env, values)"
   ],
   "metadata": {
    "collapsed": false,
    "ExecuteTime": {
     "end_time": "2023-06-19T23:28:14.485206600Z",
     "start_time": "2023-06-19T23:28:14.481468Z"
    }
   }
  },
  {
   "cell_type": "code",
   "execution_count": 16,
   "outputs": [
    {
     "name": "stdout",
     "output_type": "stream",
     "text": [
      "Delta: 0.9533440000000001, Theta: 1e-20\n",
      "Delta: 0.3688960000000001, Theta: 1e-20\n",
      "Delta: 0.13926400000000005, Theta: 1e-20\n",
      "Delta: 0.05570560000000002, Theta: 1e-20\n",
      "Delta: 0.02228224000000001, Theta: 1e-20\n",
      "Delta: 0.008912896000000003, Theta: 1e-20\n",
      "Delta: 0.0016384000000000008, Theta: 1e-20\n",
      "Delta: 0.0003932160000000005, Theta: 1e-20\n",
      "Delta: 7.602595430399994e-05, Theta: 1e-20\n",
      "Delta: 3.041038172160032e-05, Theta: 1e-20\n",
      "Delta: 2.6418075402233343e-06, Theta: 1e-20\n",
      "Delta: 9.045549017728909e-07, Theta: 1e-20\n",
      "Delta: 7.815354352569415e-08, Theta: 1e-20\n",
      "Delta: 1.8756850440893036e-08, Theta: 1e-20\n",
      "Delta: 5.230363003816407e-09, Theta: 1e-20\n",
      "Delta: 1.869841788348925e-09, Theta: 1e-20\n",
      "Delta: 7.479367151660976e-10, Theta: 1e-20\n",
      "Delta: 1.8698417900836484e-10, Theta: 1e-20\n",
      "Delta: 4.8203025772297625e-11, Theta: 1e-20\n",
      "Delta: 1.928121030891905e-11, Theta: 1e-20\n",
      "Delta: 1.6749952119754496e-12, Theta: 1e-20\n",
      "Delta: 5.735177957544302e-13, Theta: 1e-20\n",
      "Delta: 4.955064136780152e-14, Theta: 1e-20\n",
      "Delta: 1.189326415129699e-14, Theta: 1e-20\n",
      "Delta: 3.3150565625916784e-15, Theta: 1e-20\n",
      "Delta: 1.1839487723541708e-15, Theta: 1e-20\n",
      "Delta: 4.735795089416683e-16, Theta: 1e-20\n",
      "Delta: 1.1882855810441129e-16, Theta: 1e-20\n",
      "Delta: 5.551115123125783e-17, Theta: 1e-20\n",
      "Delta: 1.3877787807814457e-17, Theta: 1e-20\n",
      "Delta: 1.3010426069826053e-18, Theta: 1e-20\n",
      "Delta: 4.336808689942018e-19, Theta: 1e-20\n"
     ]
    }
   ],
   "source": [
    "env = Environment(0.40, 100)\n",
    "values = np.zeros(env.goal + 1)\n",
    "policy = iterate(env, values, 1e-20)"
   ],
   "metadata": {
    "collapsed": false,
    "ExecuteTime": {
     "end_time": "2023-06-19T23:28:15.324876100Z",
     "start_time": "2023-06-19T23:28:15.142453900Z"
    }
   }
  },
  {
   "cell_type": "code",
   "execution_count": 17,
   "outputs": [
    {
     "data": {
      "text/plain": "<Figure size 640x480 with 1 Axes>",
      "image/png": "[encoded data removed]"
     },
     "metadata": {},
     "output_type": "display_data"
    },
    {
     "data": {
      "text/plain": "<Figure size 640x480 with 1 Axes>",
      "image/png": "[encoded data removed]"
     },
     "metadata": {},
     "output_type": "display_data"
    }
   ],
   "source": [
    "plt.step(env.possible_states(), policy)\n",
    "plt.show()\n",
    "plt.step(env.possible_states(), values[1:-1])\n",
    "plt.show()"
   ],
   "metadata": {
    "collapsed": false,
    "ExecuteTime": {
     "end_time": "2023-06-19T23:28:16.116468900Z",
     "start_time": "2023-06-19T23:28:15.861168200Z"
    }
   }
  },
  {
   "cell_type": "code",
   "execution_count": 18,
   "outputs": [
    {
     "name": "stdout",
     "output_type": "stream",
     "text": [
      "Delta: 0.999755859375, Theta: 1e-20\n",
      "Delta: 0.749267578125, Theta: 1e-20\n",
      "Delta: 0.560302734375, Theta: 1e-20\n",
      "Delta: 0.42022705078125, Theta: 1e-20\n",
      "Delta: 0.3151702880859375, Theta: 1e-20\n",
      "Delta: 0.23637771606445312, Theta: 1e-20\n",
      "Delta: 0.13348388671875, Theta: 1e-20\n",
      "Delta: 0.0588880330324173, Theta: 1e-20\n",
      "Delta: 0.05391823500394821, Theta: 1e-20\n",
      "Delta: 0.05091038695536554, Theta: 1e-20\n",
      "Delta: 0.0483007656148402, Theta: 1e-20\n",
      "Delta: 0.04440035054449254, Theta: 1e-20\n",
      "Delta: 0.040094582070821616, Theta: 1e-20\n",
      "Delta: 0.038412824874406226, Theta: 1e-20\n",
      "Delta: 0.03583831091808065, Theta: 1e-20\n",
      "Delta: 0.033566966518404184, Theta: 1e-20\n",
      "Delta: 0.03102202841821622, Theta: 1e-20\n",
      "Delta: 0.028223431576666624, Theta: 1e-20\n",
      "Delta: 0.025749880262082803, Theta: 1e-20\n",
      "Delta: 0.023022388728172305, Theta: 1e-20\n",
      "Delta: 0.02108483079771284, Theta: 1e-20\n",
      "Delta: 0.01919997801240625, Theta: 1e-20\n",
      "Delta: 0.017137813139238678, Theta: 1e-20\n",
      "Delta: 0.015186014315212604, Theta: 1e-20\n",
      "Delta: 0.013436158373779428, Theta: 1e-20\n",
      "Delta: 0.011789091671350338, Theta: 1e-20\n",
      "Delta: 0.010526705898539324, Theta: 1e-20\n",
      "Delta: 0.009330071799721784, Theta: 1e-20\n",
      "Delta: 0.008196457882326036, Theta: 1e-20\n",
      "Delta: 0.007148211093991552, Theta: 1e-20\n",
      "Delta: 0.006202470406152627, Theta: 1e-20\n",
      "Delta: 0.005400869447345524, Theta: 1e-20\n",
      "Delta: 0.004711916656933934, Theta: 1e-20\n",
      "Delta: 0.004095802778779745, Theta: 1e-20\n",
      "Delta: 0.003545905849584252, Theta: 1e-20\n",
      "Delta: 0.0030584596068380376, Theta: 1e-20\n",
      "Delta: 0.0026281573843738304, Theta: 1e-20\n",
      "Delta: 0.002263227647997801, Theta: 1e-20\n",
      "Delta: 0.001948314086208769, Theta: 1e-20\n",
      "Delta: 0.0016744408305497949, Theta: 1e-20\n",
      "Delta: 0.0014351714962284046, Theta: 1e-20\n",
      "Delta: 0.0012259685719822055, Theta: 1e-20\n",
      "Delta: 0.0010444356244730946, Theta: 1e-20\n",
      "Delta: 0.0008912311835465037, Theta: 1e-20\n",
      "Delta: 0.000760113347537783, Theta: 1e-20\n",
      "Delta: 0.0006471979849516085, Theta: 1e-20\n",
      "Delta: 0.000549710484538446, Theta: 1e-20\n",
      "Delta: 0.0004656363484714099, Theta: 1e-20\n",
      "Delta: 0.0003945010975759944, Theta: 1e-20\n",
      "Delta: 0.000334189513303329, Theta: 1e-20\n",
      "Delta: 0.00028284285223845185, Theta: 1e-20\n",
      "Delta: 0.00023900125320930332, Theta: 1e-20\n",
      "Delta: 0.0002015479605065318, Theta: 1e-20\n",
      "Delta: 0.000169843197324826, Theta: 1e-20\n",
      "Delta: 0.0001430881384120175, Theta: 1e-20\n",
      "Delta: 0.00012047290133221367, Theta: 1e-20\n",
      "Delta: 0.0001013210445067747, Theta: 1e-20\n",
      "Delta: 8.509156451708133e-05, Theta: 1e-20\n",
      "Delta: 7.139918135390388e-05, Theta: 1e-20\n",
      "Delta: 5.988311841198524e-05, Theta: 1e-20\n",
      "Delta: 5.019746244028234e-05, Theta: 1e-20\n",
      "Delta: 4.204579412292464e-05, Theta: 1e-20\n",
      "Delta: 3.518103014010787e-05, Theta: 1e-20\n",
      "Delta: 2.9412076484991445e-05, Theta: 1e-20\n",
      "Delta: 2.4575701728646315e-05, Theta: 1e-20\n",
      "Delta: 2.0524369241159413e-05, Theta: 1e-20\n",
      "Delta: 1.7130251084740422e-05, Theta: 1e-20\n",
      "Delta: 1.4285600747787619e-05, Theta: 1e-20\n",
      "Delta: 1.1904551703634247e-05, Theta: 1e-20\n",
      "Delta: 9.914988842507633e-06, Theta: 1e-20\n",
      "Delta: 8.253968105331744e-06, Theta: 1e-20\n",
      "Delta: 6.867446360692142e-06, Theta: 1e-20\n",
      "Delta: 5.709866576442124e-06, Theta: 1e-20\n",
      "Delta: 4.744456793548402e-06, Theta: 1e-20\n",
      "Delta: 3.9402841197633265e-06, Theta: 1e-20\n",
      "Delta: 3.270906824726083e-06, Theta: 1e-20\n",
      "Delta: 2.7138710962937296e-06, Theta: 1e-20\n",
      "Delta: 2.2503571628362806e-06, Theta: 1e-20\n",
      "Delta: 1.865002698053786e-06, Theta: 1e-20\n",
      "Delta: 1.5449150412294443e-06, Theta: 1e-20\n",
      "Delta: 1.2792016433893494e-06, Theta: 1e-20\n",
      "Delta: 1.0586908200105327e-06, Theta: 1e-20\n",
      "Delta: 8.757523516367272e-07, Theta: 1e-20\n",
      "Delta: 7.24081753222805e-07, Theta: 1e-20\n",
      "Delta: 5.984178020890241e-07, Theta: 1e-20\n",
      "Delta: 4.943539363422289e-07, Theta: 1e-20\n",
      "Delta: 4.0820522717588403e-07, Theta: 1e-20\n",
      "Delta: 3.369183001478149e-07, Theta: 1e-20\n",
      "Delta: 2.7796213786235313e-07, Theta: 1e-20\n",
      "Delta: 2.2923048681455782e-07, Theta: 1e-20\n",
      "Delta: 1.889679139832623e-07, Theta: 1e-20\n",
      "Delta: 1.5571388800594832e-07, Theta: 1e-20\n",
      "Delta: 1.2826015916012068e-07, Theta: 1e-20\n",
      "Delta: 1.05606051237217e-07, Theta: 1e-20\n",
      "Delta: 8.692117425823653e-08, Theta: 1e-20\n",
      "Delta: 7.151603109711857e-08, Theta: 1e-20\n",
      "Delta: 5.881951303798871e-08, Theta: 1e-20\n",
      "Delta: 4.8359536153341764e-08, Theta: 1e-20\n",
      "Delta: 3.974572804210652e-08, Theta: 1e-20\n",
      "Delta: 3.265503767391209e-08, Theta: 1e-20\n",
      "Delta: 2.6820146770134556e-08, Theta: 1e-20\n",
      "Delta: 2.202033722031871e-08, Theta: 1e-20\n",
      "Delta: 1.8073479823854655e-08, Theta: 1e-20\n",
      "Delta: 1.4829234173951988e-08, Theta: 1e-20\n",
      "Delta: 1.2163464235825927e-08, Theta: 1e-20\n",
      "Delta: 9.973752601588615e-09, Theta: 1e-20\n",
      "Delta: 8.175687904454776e-09, Theta: 1e-20\n",
      "Delta: 6.699725330072681e-09, Theta: 1e-20\n",
      "Delta: 5.4885694877881974e-09, Theta: 1e-20\n",
      "Delta: 4.49502302046767e-09, Theta: 1e-20\n",
      "Delta: 3.6802406677693966e-09, Theta: 1e-20\n",
      "Delta: 3.012267990598616e-09, Theta: 1e-20\n",
      "Delta: 2.464825121784031e-09, Theta: 1e-20\n",
      "Delta: 2.016301015039801e-09, Theta: 1e-20\n",
      "Delta: 1.6489301035704784e-09, Theta: 1e-20\n",
      "Delta: 1.348118727761971e-09, Theta: 1e-20\n",
      "Delta: 1.1018803647289133e-09, Theta: 1e-20\n",
      "Delta: 9.003737755364227e-10, Theta: 1e-20\n",
      "Delta: 7.355196451896973e-10, Theta: 1e-20\n",
      "Delta: 6.00689054053305e-10, Theta: 1e-20\n",
      "Delta: 4.904453509979589e-10, Theta: 1e-20\n",
      "Delta: 4.003293252452522e-10, Theta: 1e-20\n",
      "Delta: 3.2668689975423604e-10, Theta: 1e-20\n",
      "Delta: 2.6652235973756433e-10, Theta: 1e-20\n",
      "Delta: 2.1738266742232781e-10, Theta: 1e-20\n",
      "Delta: 1.772578750447451e-10, Theta: 1e-20\n",
      "Delta: 1.4450307617153157e-10, Theta: 1e-20\n",
      "Delta: 1.1777134822921198e-10, Theta: 1e-20\n",
      "Delta: 9.596101691045078e-11, Theta: 1e-20\n",
      "Delta: 7.817058111925235e-11, Theta: 1e-20\n",
      "Delta: 6.366263072266065e-11, Theta: 1e-20\n",
      "Delta: 5.183498075211901e-11, Theta: 1e-20\n",
      "Delta: 4.2194470140088924e-11, Theta: 1e-20\n",
      "Delta: 3.4338865084748704e-11, Theta: 1e-20\n",
      "Delta: 2.7939206503901914e-11, Theta: 1e-20\n",
      "Delta: 2.2727042470194192e-11, Theta: 1e-20\n",
      "Delta: 1.848277086935468e-11, Theta: 1e-20\n",
      "Delta: 1.502753477211627e-11, Theta: 1e-20\n",
      "Delta: 1.2215672917648135e-11, Theta: 1e-20\n",
      "Delta: 9.92761428619815e-12, Theta: 1e-20\n",
      "Delta: 8.066325385414075e-12, Theta: 1e-20\n",
      "Delta: 6.552536291337674e-12, Theta: 1e-20\n",
      "Delta: 5.321743046238225e-12, Theta: 1e-20\n",
      "Delta: 4.321210056446034e-12, Theta: 1e-20\n",
      "Delta: 3.5078606686056446e-12, Theta: 1e-20\n",
      "Delta: 2.8470559243487514e-12, Theta: 1e-20\n",
      "Delta: 2.3103741142449508e-12, Theta: 1e-20\n",
      "Delta: 1.8742785101721893e-12, Theta: 1e-20\n",
      "Delta: 1.5203394099216894e-12, Theta: 1e-20\n",
      "Delta: 1.2327916465437738e-12, Theta: 1e-20\n",
      "Delta: 9.99644811372491e-13, Theta: 1e-20\n",
      "Delta: 8.102407633714392e-13, Theta: 1e-20\n",
      "Delta: 6.565858967633176e-13, Theta: 1e-20\n",
      "Delta: 5.321298957028375e-13, Theta: 1e-20\n",
      "Delta: 4.310996004619483e-13, Theta: 1e-20\n",
      "Delta: 3.4927616354707425e-13, Theta: 1e-20\n",
      "Delta: 2.828848266744899e-13, Theta: 1e-20\n",
      "Delta: 2.2881696537524476e-13, Theta: 1e-20\n",
      "Delta: 1.8551826741486366e-13, Theta: 1e-20\n",
      "Delta: 1.4999113062685865e-13, Theta: 1e-20\n",
      "Delta: 1.213473765915296e-13, Theta: 1e-20\n",
      "Delta: 9.814371537686384e-14, Theta: 1e-20\n",
      "Delta: 7.949196856316121e-14, Theta: 1e-20\n",
      "Delta: 6.417089082333405e-14, Theta: 1e-20\n",
      "Delta: 5.1958437552457326e-14, Theta: 1e-20\n",
      "Delta: 4.196643033083092e-14, Theta: 1e-20\n",
      "Delta: 3.397282455352979e-14, Theta: 1e-20\n",
      "Delta: 2.7533531010703882e-14, Theta: 1e-20\n",
      "Delta: 2.19824158875781e-14, Theta: 1e-20\n",
      "Delta: 1.787459069646502e-14, Theta: 1e-20\n",
      "Delta: 1.454392162258955e-14, Theta: 1e-20\n",
      "Delta: 1.1657341758564144e-14, Theta: 1e-20\n",
      "Delta: 9.43689570931383e-15, Theta: 1e-20\n",
      "Delta: 7.549516567451064e-15, Theta: 1e-20\n",
      "Delta: 5.995204332975845e-15, Theta: 1e-20\n",
      "Delta: 4.884981308350689e-15, Theta: 1e-20\n",
      "Delta: 4.107825191113079e-15, Theta: 1e-20\n",
      "Delta: 3.3306690738754696e-15, Theta: 1e-20\n",
      "Delta: 2.55351295663786e-15, Theta: 1e-20\n",
      "Delta: 1.9984014443252818e-15, Theta: 1e-20\n",
      "Delta: 1.7763568394002505e-15, Theta: 1e-20\n",
      "Delta: 1.3322676295501878e-15, Theta: 1e-20\n",
      "Delta: 1.1102230246251565e-15, Theta: 1e-20\n",
      "Delta: 8.881784197001252e-16, Theta: 1e-20\n",
      "Delta: 8.881784197001252e-16, Theta: 1e-20\n",
      "Delta: 6.661338147750939e-16, Theta: 1e-20\n",
      "Delta: 5.551115123125783e-16, Theta: 1e-20\n",
      "Delta: 3.3306690738754696e-16, Theta: 1e-20\n",
      "Delta: 3.3306690738754696e-16, Theta: 1e-20\n",
      "Delta: 2.220446049250313e-16, Theta: 1e-20\n",
      "Delta: 2.220446049250313e-16, Theta: 1e-20\n",
      "Delta: 1.1102230246251565e-16, Theta: 1e-20\n",
      "Delta: 1.1102230246251565e-16, Theta: 1e-20\n"
     ]
    }
   ],
   "source": [
    "env = Environment(0.75, 100)\n",
    "values = np.zeros(env.goal+1)\n",
    "policy = iterate(env, values, 1e-20)"
   ],
   "metadata": {
    "collapsed": false,
    "ExecuteTime": {
     "end_time": "2023-06-19T23:28:18.826920400Z",
     "start_time": "2023-06-19T23:28:17.803787400Z"
    }
   }
  },
  {
   "cell_type": "code",
   "execution_count": 19,
   "outputs": [
    {
     "data": {
      "text/plain": "<Figure size 640x480 with 1 Axes>",
      "image/png": "[encoded data removed]"
     },
     "metadata": {},
     "output_type": "display_data"
    },
    {
     "data": {
      "text/plain": "<Figure size 640x480 with 1 Axes>",
      "image/png": "[encoded data removed]"
     },
     "metadata": {},
     "output_type": "display_data"
    }
   ],
   "source": [
    "plt.step(env.possible_states(), policy)\n",
    "plt.show()\n",
    "plt.step(env.possible_states(), values[1:-1])\n",
    "plt.show()"
   ],
   "metadata": {
    "collapsed": false,
    "ExecuteTime": {
     "end_time": "2023-06-19T23:28:19.713201300Z",
     "start_time": "2023-06-19T23:28:19.468345Z"
    }
   }
  },
  {
   "cell_type": "code",
   "execution_count": 20,
   "outputs": [
    {
     "name": "stdout",
     "output_type": "stream",
     "text": [
      "Delta: 0.822021484375, Theta: 1e-20\n",
      "Delta: 0.190673828125, Theta: 1e-20\n",
      "Delta: 0.042724609375, Theta: 1e-20\n",
      "Delta: 0.01068115234375, Theta: 1e-20\n",
      "Delta: 0.0026702880859375, Theta: 1e-20\n",
      "Delta: 0.000667572021484375, Theta: 1e-20\n",
      "Delta: 0.00011587142944335938, Theta: 1e-20\n",
      "Delta: 2.1725893020629883e-05, Theta: 1e-20\n",
      "Delta: 5.431473255157471e-06, Theta: 1e-20\n",
      "Delta: 1.3578683137893677e-06, Theta: 1e-20\n",
      "Delta: 3.394670784473419e-07, Theta: 1e-20\n",
      "Delta: 3.580316842999309e-08, Theta: 1e-20\n",
      "Delta: 6.713094080623705e-09, Theta: 1e-20\n",
      "Delta: 5.31016230986836e-10, Theta: 1e-20\n",
      "Delta: 1.32754057746709e-10, Theta: 1e-20\n",
      "Delta: 3.318851443667725e-11, Theta: 1e-20\n",
      "Delta: 6.222846023196116e-12, Theta: 1e-20\n",
      "Delta: 1.1667836835593803e-12, Theta: 1e-20\n",
      "Delta: 2.916959208898451e-13, Theta: 1e-20\n",
      "Delta: 7.292398022246127e-14, Theta: 1e-20\n",
      "Delta: 1.8230995055615318e-14, Theta: 1e-20\n",
      "Delta: 1.923808334858279e-15, Theta: 1e-20\n",
      "Delta: 3.608224830031759e-16, Theta: 1e-20\n",
      "Delta: 5.551115123125783e-17, Theta: 1e-20\n",
      "Delta: 1.3877787807814457e-17, Theta: 1e-20\n",
      "Delta: 1.8431436932253575e-18, Theta: 1e-20\n",
      "Delta: 4.336808689942018e-19, Theta: 1e-20\n",
      "Delta: 1.0842021724855044e-19, Theta: 1e-20\n"
     ]
    }
   ],
   "source": [
    "env = Environment(0.25, 100)\n",
    "values = np.zeros(env.goal+1)\n",
    "policy = iterate(env, values, 1e-20)"
   ],
   "metadata": {
    "collapsed": false,
    "ExecuteTime": {
     "end_time": "2023-06-19T23:28:21.560916500Z",
     "start_time": "2023-06-19T23:28:21.406096900Z"
    }
   }
  },
  {
   "cell_type": "code",
   "execution_count": 21,
   "outputs": [
    {
     "data": {
      "text/plain": "<Figure size 640x480 with 1 Axes>",
      "image/png": "[encoded data removed]"
     },
     "metadata": {},
     "output_type": "display_data"
    },
    {
     "data": {
      "text/plain": "<Figure size 640x480 with 1 Axes>",
      "image/png": "[encoded data removed]"
     },
     "metadata": {},
     "output_type": "display_data"
    }
   ],
   "source": [
    "plt.step(env.possible_states(), policy)\n",
    "plt.show()\n",
    "plt.step(env.possible_states(), values[1:-1])\n",
    "plt.show()"
   ],
   "metadata": {
    "collapsed": false,
    "ExecuteTime": {
     "end_time": "2023-06-19T23:28:22.393342700Z",
     "start_time": "2023-06-19T23:28:22.158337100Z"
    }
   }
  }
 ],
 "metadata": {
  "kernelspec": {
   "display_name": "Python 3",
   "language": "python",
   "name": "python3"
  },
  "language_info": {
   "codemirror_mode": {
    "name": "ipython",
    "version": 2
   },
   "file_extension": ".py",
   "mimetype": "text/x-python",
   "name": "python",
   "nbconvert_exporter": "python",
   "pygments_lexer": "ipython2",
   "version": "2.7.6"
  }
 },
 "nbformat": 4,
 "nbformat_minor": 0
}
