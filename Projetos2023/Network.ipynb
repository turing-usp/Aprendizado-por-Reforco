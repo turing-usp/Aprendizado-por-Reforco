{
 "cells": [
  {
   "cell_type": "code",
   "execution_count": null,
   "metadata": {},
   "outputs": [],
   "source": [
    "class Datagram:\n",
    "    def __init__(self, source, destination):\n",
    "        self.source = source\n",
    "        self.destination = destination"
   ]
  },
  {
   "cell_type": "code",
   "execution_count": null,
   "metadata": {},
   "outputs": [],
   "source": [
    "class Element:\n",
    "    def __init__(self, datagram, next):\n",
    "        self.datagram = datagram\n",
    "        self.next = next"
   ]
  },
  {
   "cell_type": "code",
   "execution_count": null,
   "metadata": {},
   "outputs": [],
   "source": [
    "class Queue: #(desnecessaria)\n",
    "    def __init__(self, size):\n",
    "        self.size = size\n",
    "        self.quantity = 0\n",
    "        self.head = None\n",
    "        self.tail = None\n",
    "\n",
    "    def isEmpty(self):\n",
    "        return self.head == None  \n",
    "\n",
    "    def enqueue(self, datagram):\n",
    "        if self.quantity < self.size:\n",
    "            e = Element(datagram, None)\n",
    "            if self.isEmpty():\n",
    "                self.head = e\n",
    "                self.tail = e\n",
    "            self.tail.next = e\n",
    "            self.tail = e\n",
    "            self.quantity += 1\n",
    "            return True\n",
    "        return False\n",
    "\n",
    "    def dequeue(self):\n",
    "        if not self.isEmpty():\n",
    "            datagram = self.head.datagram\n",
    "            self.head = self.head.next\n",
    "            self.quantity -= 1\n",
    "            return datagram\n",
    "        return None"
   ]
  },
  {
   "cell_type": "code",
   "execution_count": null,
   "metadata": {},
   "outputs": [],
   "source": [
    "class Event:\n",
    "    def __init__(self, instant, destination, datagram):\n",
    "        self.instant = instant\n",
    "        self.destination = destination\n",
    "        self.datagram = datagram\n",
    "    "
   ]
  },
  {
   "cell_type": "code",
   "execution_count": null,
   "metadata": {},
   "outputs": [],
   "source": [
    "class Network:\n",
    "    def __init__(self, size):\n",
    "        self.size = size\n",
    "        self.quantity = 0\n",
    "        self.routers = {}\n",
    "\n",
    "    def add(self, router):\n",
    "        if self.quantity < self.size:\n",
    "            if router.address not in self.routers:\n",
    "                self.routers[router.address] = router\n",
    "                self.quantity += 1\n",
    "                return True\n",
    "        return False"
   ]
  }
 ],
 "metadata": {
  "language_info": {
   "name": "python"
  }
 },
 "nbformat": 4,
 "nbformat_minor": 2
}
