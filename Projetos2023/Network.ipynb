{
 "cells": [
  {
   "cell_type": "code",
   "execution_count": 8,
   "metadata": {},
   "outputs": [],
   "source": [
    "class Datagram:\n",
    "    def __init__(self, source, destination):\n",
    "        self.source = source\n",
    "        self.destination = destination"
   ]
  },
  {
   "cell_type": "code",
   "execution_count": 9,
   "metadata": {},
   "outputs": [],
   "source": [
    "class Element:\n",
    "    def __init__(self, datagram, next):\n",
    "        self.datagram = datagram\n",
    "        self.next = next"
   ]
  },
  {
   "cell_type": "code",
   "execution_count": null,
   "metadata": {},
   "outputs": [],
   "source": [
    "class Fila: #(desnecessaria)\n",
    "    def __init__(self, size):\n",
    "        self.size = size\n",
    "        self.quantity = 0\n",
    "        self.head = None\n",
    "        self.tail = None\n",
    "\n",
    "    def isEmpty(self):\n",
    "        return self.head == None  \n",
    "\n",
    "    def enqueue(self, datagram):\n",
    "        if self.quantity < self.size:\n",
    "            e = Element(datagram, None)\n",
    "            if self.isEmpty():\n",
    "                self.head = e\n",
    "                self.tail = e\n",
    "            self.tail.next = e\n",
    "            self.tail = e\n",
    "            self.quantity += 1\n",
    "            return True\n",
    "        return False\n",
    "\n",
    "    def dequeue(self):\n",
    "        if not self.isEmpty():\n",
    "            datagram = self.head.datagram\n",
    "            self.head = self.head.next\n",
    "            self.quantity -= 1\n",
    "            return datagram\n",
    "        return None"
   ]
  },
  {
   "cell_type": "code",
   "execution_count": 10,
   "metadata": {},
   "outputs": [],
   "source": [
    "class Queue:\n",
    "    def __init__(self, size):\n",
    "        self.queue = []\n",
    "        self.size = size\n",
    "\n",
    "    def is_empty(self):\n",
    "        return len(self.queue) == 0\n",
    "    \n",
    "    def enqueue(self, datagram):\n",
    "        if len(self.queue) < self.size:\n",
    "            self.queue.append(datagram)\n",
    "            return True\n",
    "        return False\n",
    "\n",
    "    def dequeue(self):\n",
    "        if not self.isEmpty():\n",
    "            return self.queue.pop(0)\n",
    "        return None"
   ]
  },
  {
   "cell_type": "code",
   "execution_count": 11,
   "metadata": {},
   "outputs": [],
   "source": [
    "class Event:\n",
    "    def __init__(self, instant, destination, datagram):\n",
    "        self.instant = instant\n",
    "        self.destination = destination\n",
    "        self.datagram = datagram\n",
    "    "
   ]
  },
  {
   "cell_type": "code",
   "execution_count": 12,
   "metadata": {},
   "outputs": [],
   "source": [
    "class Router:\n",
    "    def __init__(self, address, size):\n",
    "        self.address = address\n",
    "        self.adjacents = {}\n",
    "        self.datagrams = []\n",
    "        self.size = size\n",
    "\n",
    "    def link(self, adjacent, delay):\n",
    "        if adjacent not in self.adjacents:\n",
    "            queue = Queue(self.size)\n",
    "            self.adjacents[adjacent] = (queue, delay)\n",
    "\n",
    "    def receive(self, datagram):\n",
    "        self.datagrams.append(datagram)\n",
    "\n",
    "    def process(self, instant):\n",
    "        events = []\n",
    "        for adjacent in self.adjacents:\n",
    "            datagram = self.adjacents[adjacent][0].dequeue()\n",
    "            if datagram != None:\n",
    "                event = Event(instant + self.adjacents[adjacent][1], adjacent, datagram)\n",
    "                events.append(event)\n",
    "        return events\n",
    "    \n",
    "    def routing(self, action):\n",
    "        \"\"\"mandar os datagramas em self.datagramas para uma determinada fila\"\"\""
   ]
  },
  {
   "cell_type": "code",
   "execution_count": 13,
   "metadata": {},
   "outputs": [],
   "source": [
    "class Network:\n",
    "    def __init__(self, size):\n",
    "        self.size = size\n",
    "        self.quantity = 0\n",
    "        self.routers = {}\n",
    "\n",
    "    def add(self, router: Router):\n",
    "        if self.quantity < self.size:\n",
    "            if router.address not in self.routers:\n",
    "                self.routers[router.address] = router\n",
    "                self.quantity += 1\n",
    "                return True\n",
    "        return False"
   ]
  },
  {
   "cell_type": "code",
   "execution_count": 14,
   "metadata": {},
   "outputs": [],
   "source": [
    "class Scheduler:\n",
    "    def __init__(self, inicial_instant, network, size):\n",
    "        self.instant = inicial_instant\n",
    "        self.network = network\n",
    "        self.size = size\n",
    "        self.events = []\n",
    "    \n",
    "    def schedule(self, instant, router, datagram):\n",
    "        if len(self.events) == self.size:\n",
    "            return False\n",
    "        self.events.append(Event(instant, router, datagram)) #aqui não deveria ser: Event(instant, datagram.source, datagram)?\n",
    "        return True\n",
    "    \n",
    "    def process(self, action):\n",
    "        for event in self.events:\n",
    "            if event.instant == self.instant:\n",
    "                event.router.receive(event.datagram)\n",
    "        self.events = [event for event in self.events if event.instant != self.instant]\n",
    "        for router in self.network.routers:\n",
    "            router.routing(action[i]) ### algo assim?\n",
    "            event = router.process(self.instant)\n",
    "            if event is not None:\n",
    "                self.events.append(event)\n",
    "        self.instant += 1"
   ]
  },
  {
   "cell_type": "markdown",
   "metadata": {},
   "source": [
    "obs: Se não for ter criação de evento AGENDADO, o método schedule() parece pouco útil, podemos inserir um novo datagrama diretamente em datagrams do router de origem "
   ]
  }
 ],
 "metadata": {
  "kernelspec": {
   "display_name": "Python 3",
   "language": "python",
   "name": "python3"
  },
  "language_info": {
   "codemirror_mode": {
    "name": "ipython",
    "version": 3
   },
   "file_extension": ".py",
   "mimetype": "text/x-python",
   "name": "python",
   "nbconvert_exporter": "python",
   "pygments_lexer": "ipython3",
   "version": "3.11.4"
  }
 },
 "nbformat": 4,
 "nbformat_minor": 2
}
